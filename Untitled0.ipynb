{
  "nbformat": 4,
  "nbformat_minor": 0,
  "metadata": {
    "colab": {
      "provenance": [],
      "authorship_tag": "ABX9TyPFRSqw5zvdDVCg/UXly+yd",
      "include_colab_link": true
    },
    "kernelspec": {
      "name": "python3",
      "display_name": "Python 3"
    },
    "language_info": {
      "name": "python"
    }
  },
  "cells": [
    {
      "cell_type": "markdown",
      "metadata": {
        "id": "view-in-github",
        "colab_type": "text"
      },
      "source": [
        "<a href=\"https://colab.research.google.com/github/Klagex-455/NOOB/blob/main/Untitled0.ipynb\" target=\"_parent\"><img src=\"https://colab.research.google.com/assets/colab-badge.svg\" alt=\"Open In Colab\"/></a>"
      ]
    },
    {
      "cell_type": "markdown",
      "source": [
        "Programacion para primerisos"
      ],
      "metadata": {
        "id": "y8v8eksW5GIT"
      }
    },
    {
      "cell_type": "markdown",
      "source": [
        "este codigo es para invertir un nombre no importa cual"
      ],
      "metadata": {
        "id": "WpYoumTV3_hd"
      }
    },
    {
      "cell_type": "code",
      "source": [
        "#Este codigo te invierte el nombre\n",
        "nombre = \"Galiostro\"\n",
        "#Colocas la bariante \"nombre\"\n",
        "nombre_invertido = nombre[::-1]\n",
        "#Luego haces la llamada pra la variante\n",
        "print(nombre_invertido)\n",
        "#y luego haces el print para que funcione la funcion"
      ],
      "metadata": {
        "colab": {
          "base_uri": "https://localhost:8080/"
        },
        "id": "OsSOGwVh2w4W",
        "outputId": "10ad55c0-ac1c-4b0b-d388-d7f459def90a"
      },
      "execution_count": 1,
      "outputs": [
        {
          "output_type": "stream",
          "name": "stdout",
          "text": [
            "ortsoilaG\n"
          ]
        }
      ]
    },
    {
      "cell_type": "markdown",
      "source": [
        "Codigo de calculo\n",
        "\n",
        "este codigo calcula valores , yo le puse \"calcular promedio\""
      ],
      "metadata": {
        "id": "4rty5_Fy5S4Y"
      }
    },
    {
      "cell_type": "code",
      "source": [
        "#Def te ayuda que un comando no se mescle con lo demas\n",
        "def calcular_promedio(a,b):\n",
        "    return a + b\n",
        "#return ayuda a determinar que limite tiene def\n",
        "#*args indeterminada cantidad de parametros\n",
        "def calcular_promedio(*args):\n",
        "    subtotal = 0\n",
        "    for i in args:\n",
        "        subtotal +=i\n",
        "        return subtotal\n",
        "    #2.- hacer la llamada\n",
        "total = calcular_promedio(10,27,38)\n",
        "print(f\"total:{total}\")"
      ],
      "metadata": {
        "colab": {
          "base_uri": "https://localhost:8080/"
        },
        "id": "nFvaMlQ857BL",
        "outputId": "b87f6f9f-853c-43f3-f97f-87a04e98a0b0"
      },
      "execution_count": 2,
      "outputs": [
        {
          "output_type": "stream",
          "name": "stdout",
          "text": [
            "total:10\n"
          ]
        }
      ]
    }
  ]
}